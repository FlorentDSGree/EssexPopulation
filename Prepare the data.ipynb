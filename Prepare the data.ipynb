{
 "cells": [
  {
   "cell_type": "markdown",
   "metadata": {},
   "source": [
    "# Prepare the data for analysis\n",
    "<br>\n",
    "As data are coming from different sources, datasets must be combined for further analysis"
   ]
  },
  {
   "cell_type": "code",
   "execution_count": 1,
   "metadata": {},
   "outputs": [],
   "source": [
    "import geopandas as gpd\n",
    "import pandas as pd"
   ]
  },
  {
   "cell_type": "markdown",
   "metadata": {},
   "source": [
    "## Ward boundary dataset"
   ]
  },
  {
   "cell_type": "code",
   "execution_count": 3,
   "metadata": {},
   "outputs": [
    {
     "data": {
      "text/html": [
       "<div>\n",
       "<style scoped>\n",
       "    .dataframe tbody tr th:only-of-type {\n",
       "        vertical-align: middle;\n",
       "    }\n",
       "\n",
       "    .dataframe tbody tr th {\n",
       "        vertical-align: top;\n",
       "    }\n",
       "\n",
       "    .dataframe thead th {\n",
       "        text-align: right;\n",
       "    }\n",
       "</style>\n",
       "<table border=\"1\" class=\"dataframe\">\n",
       "  <thead>\n",
       "    <tr style=\"text-align: right;\">\n",
       "      <th></th>\n",
       "      <th>NAME</th>\n",
       "      <th>FILE_NAME</th>\n",
       "      <th>AREA_CODE</th>\n",
       "      <th>DESCRIPTIO</th>\n",
       "      <th>CODE</th>\n",
       "      <th>HECTARES</th>\n",
       "      <th>geometry</th>\n",
       "      <th>AREA_km2</th>\n",
       "    </tr>\n",
       "  </thead>\n",
       "  <tbody>\n",
       "    <tr>\n",
       "      <th>380</th>\n",
       "      <td>Brizes and Doddinghurst Ward</td>\n",
       "      <td>ESSEX_COUNTY</td>\n",
       "      <td>DIW</td>\n",
       "      <td>District Ward</td>\n",
       "      <td>E05004070</td>\n",
       "      <td>3256.236</td>\n",
       "      <td>POLYGON ((561084.097 197904.500, 561080.403 19...</td>\n",
       "      <td>32.56236</td>\n",
       "    </tr>\n",
       "    <tr>\n",
       "      <th>381</th>\n",
       "      <td>Ingatestone, Fryerning and Mountnessing Ward</td>\n",
       "      <td>ESSEX_COUNTY</td>\n",
       "      <td>DIW</td>\n",
       "      <td>District Ward</td>\n",
       "      <td>E05004076</td>\n",
       "      <td>2795.113</td>\n",
       "      <td>POLYGON ((561248.800 198814.899, 561242.699 19...</td>\n",
       "      <td>27.95113</td>\n",
       "    </tr>\n",
       "    <tr>\n",
       "      <th>382</th>\n",
       "      <td>Warley Ward</td>\n",
       "      <td>ESSEX_COUNTY</td>\n",
       "      <td>DIW</td>\n",
       "      <td>District Ward</td>\n",
       "      <td>E05004081</td>\n",
       "      <td>1827.160</td>\n",
       "      <td>POLYGON ((560409.997 187764.202, 560412.297 18...</td>\n",
       "      <td>18.27160</td>\n",
       "    </tr>\n",
       "    <tr>\n",
       "      <th>383</th>\n",
       "      <td>Herongate, Ingrave and West Horndon Ward</td>\n",
       "      <td>ESSEX_COUNTY</td>\n",
       "      <td>DIW</td>\n",
       "      <td>District Ward</td>\n",
       "      <td>E05004071</td>\n",
       "      <td>1984.608</td>\n",
       "      <td>POLYGON ((560409.997 187764.202, 560407.804 18...</td>\n",
       "      <td>19.84608</td>\n",
       "    </tr>\n",
       "    <tr>\n",
       "      <th>384</th>\n",
       "      <td>Shenfield Ward</td>\n",
       "      <td>ESSEX_COUNTY</td>\n",
       "      <td>DIW</td>\n",
       "      <td>District Ward</td>\n",
       "      <td>E05004078</td>\n",
       "      <td>683.749</td>\n",
       "      <td>POLYGON ((561084.097 197904.500, 561101.296 19...</td>\n",
       "      <td>6.83749</td>\n",
       "    </tr>\n",
       "  </tbody>\n",
       "</table>\n",
       "</div>"
      ],
      "text/plain": [
       "                                             NAME     FILE_NAME AREA_CODE  \\\n",
       "380                  Brizes and Doddinghurst Ward  ESSEX_COUNTY       DIW   \n",
       "381  Ingatestone, Fryerning and Mountnessing Ward  ESSEX_COUNTY       DIW   \n",
       "382                                   Warley Ward  ESSEX_COUNTY       DIW   \n",
       "383      Herongate, Ingrave and West Horndon Ward  ESSEX_COUNTY       DIW   \n",
       "384                                Shenfield Ward  ESSEX_COUNTY       DIW   \n",
       "\n",
       "        DESCRIPTIO       CODE  HECTARES  \\\n",
       "380  District Ward  E05004070  3256.236   \n",
       "381  District Ward  E05004076  2795.113   \n",
       "382  District Ward  E05004081  1827.160   \n",
       "383  District Ward  E05004071  1984.608   \n",
       "384  District Ward  E05004078   683.749   \n",
       "\n",
       "                                              geometry  AREA_km2  \n",
       "380  POLYGON ((561084.097 197904.500, 561080.403 19...  32.56236  \n",
       "381  POLYGON ((561248.800 198814.899, 561242.699 19...  27.95113  \n",
       "382  POLYGON ((560409.997 187764.202, 560412.297 18...  18.27160  \n",
       "383  POLYGON ((560409.997 187764.202, 560407.804 18...  19.84608  \n",
       "384  POLYGON ((561084.097 197904.500, 561101.296 19...   6.83749  "
      ]
     },
     "execution_count": 3,
     "metadata": {},
     "output_type": "execute_result"
    }
   ],
   "source": [
    "# Load raw data\n",
    "boundariesDistrictBoroughRaw = gpd.read_file(\"./data/01_Raw/bdline_gpkg_gb/Data/GB/district_borough_unitary_ward_region.shp\")\n",
    "# Filter boundaries data to keep only Essex including Thurrock and Southend-On-Sea\n",
    "countyList = ['ESSEX_COUNTY','THURROCK_(B)','SOUTHEND-ON-SEA_(B)']\n",
    "boundariesDistrictBorough = boundariesDistrictBoroughRaw[['NAME','FILE_NAME','AREA_CODE','DESCRIPTIO','CODE','HECTARES','geometry']].copy()\n",
    "boundariesDistrictBorough['AREA_km2'] = boundariesDistrictBorough['HECTARES']/100\n",
    "boundariesDistrictBorough = boundariesDistrictBorough[boundariesDistrictBorough['FILE_NAME'].isin(countyList)]\n",
    "boundariesDistrictBorough.head()"
   ]
  },
  {
   "cell_type": "markdown",
   "metadata": {},
   "source": [
    "## Population by ward dataset"
   ]
  },
  {
   "cell_type": "code",
   "execution_count": 4,
   "metadata": {},
   "outputs": [],
   "source": [
    "# Load raw data\n",
    "populationDistrictBoroughRaw = pd.read_excel(\"./data/01_Raw/SAPE22DT8a-mid-2019-ward-2019-on-2019 and 2020-LA-syoa-estimates-unformatted.xlsx\",\n",
    "             sheet_name=\"Mid-2019 Persons\", skiprows=4, usecols='A:D,G')"
   ]
  },
  {
   "cell_type": "markdown",
   "metadata": {},
   "source": [
    "## LSOA boundary dataset"
   ]
  },
  {
   "cell_type": "code",
   "execution_count": 2,
   "metadata": {},
   "outputs": [
    {
     "data": {
      "text/html": [
       "<div>\n",
       "<style scoped>\n",
       "    .dataframe tbody tr th:only-of-type {\n",
       "        vertical-align: middle;\n",
       "    }\n",
       "\n",
       "    .dataframe tbody tr th {\n",
       "        vertical-align: top;\n",
       "    }\n",
       "\n",
       "    .dataframe thead th {\n",
       "        text-align: right;\n",
       "    }\n",
       "</style>\n",
       "<table border=\"1\" class=\"dataframe\">\n",
       "  <thead>\n",
       "    <tr style=\"text-align: right;\">\n",
       "      <th></th>\n",
       "      <th>LSOA11CD</th>\n",
       "      <th>LSOA11NM</th>\n",
       "      <th>geometry</th>\n",
       "    </tr>\n",
       "  </thead>\n",
       "  <tbody>\n",
       "    <tr>\n",
       "      <th>0</th>\n",
       "      <td>E01030056</td>\n",
       "      <td>Mid Suffolk 006B</td>\n",
       "      <td>POLYGON ((602565.167 261619.354, 602568.750 26...</td>\n",
       "    </tr>\n",
       "    <tr>\n",
       "      <th>1</th>\n",
       "      <td>E01030057</td>\n",
       "      <td>Mid Suffolk 007B</td>\n",
       "      <td>POLYGON ((620353.125 257225.999, 620330.690 25...</td>\n",
       "    </tr>\n",
       "    <tr>\n",
       "      <th>2</th>\n",
       "      <td>E01030054</td>\n",
       "      <td>Mid Suffolk 002B</td>\n",
       "      <td>POLYGON ((607007.190 275966.413, 607006.813 27...</td>\n",
       "    </tr>\n",
       "    <tr>\n",
       "      <th>3</th>\n",
       "      <td>E01030055</td>\n",
       "      <td>Mid Suffolk 002C</td>\n",
       "      <td>POLYGON ((607480.834 271499.445, 607477.312 27...</td>\n",
       "    </tr>\n",
       "    <tr>\n",
       "      <th>4</th>\n",
       "      <td>E01030052</td>\n",
       "      <td>Mid Suffolk 001A</td>\n",
       "      <td>POLYGON ((613156.044 274811.514, 613146.313 27...</td>\n",
       "    </tr>\n",
       "  </tbody>\n",
       "</table>\n",
       "</div>"
      ],
      "text/plain": [
       "    LSOA11CD          LSOA11NM  \\\n",
       "0  E01030056  Mid Suffolk 006B   \n",
       "1  E01030057  Mid Suffolk 007B   \n",
       "2  E01030054  Mid Suffolk 002B   \n",
       "3  E01030055  Mid Suffolk 002C   \n",
       "4  E01030052  Mid Suffolk 001A   \n",
       "\n",
       "                                            geometry  \n",
       "0  POLYGON ((602565.167 261619.354, 602568.750 26...  \n",
       "1  POLYGON ((620353.125 257225.999, 620330.690 25...  \n",
       "2  POLYGON ((607007.190 275966.413, 607006.813 27...  \n",
       "3  POLYGON ((607480.834 271499.445, 607477.312 27...  \n",
       "4  POLYGON ((613156.044 274811.514, 613146.313 27...  "
      ]
     },
     "execution_count": 2,
     "metadata": {},
     "output_type": "execute_result"
    }
   ],
   "source": [
    "# Load raw data\n",
    "boundariesLSOARaw = gpd.read_file(\"./data/01_Raw/LSOA_2011_EW_BFC_shp/LSOA_2011_EW_BFC.shp\")\n",
    "boundariesLSOARaw.head()"
   ]
  },
  {
   "cell_type": "markdown",
   "metadata": {},
   "source": [
    "## Population by LSOA"
   ]
  },
  {
   "cell_type": "code",
   "execution_count": 3,
   "metadata": {},
   "outputs": [],
   "source": [
    "# Load raw data\n",
    "populationLSOARaw = pd.read_excel(\"./data/01_Raw/SAPE22DT2-mid-2019-lsoa-syoa-estimates-unformatted.xlsx\",\n",
    "             sheet_name=\"Mid-2019 Persons\", skiprows=4, usecols='A:D,G')"
   ]
  },
  {
   "cell_type": "markdown",
   "metadata": {},
   "source": [
    "## Train station dataset"
   ]
  },
  {
   "cell_type": "code",
   "execution_count": null,
   "metadata": {},
   "outputs": [],
   "source": [
    "# Load raw data\n",
    "trainStationRaw = pd.read_csv('./data/01_Raw/table-1410-passenger-entries-and-exits-and-interchanges-by-station.csv',encoding='latin1')\n",
    "# Select only Essex train station and only some fields\n",
    "trainStationEssex = trainStationRaw[trainStationRaw['NUTS2 Spatial Unit'] == 'Essex'].copy()\n",
    "trainStationEssex = trainStationEssex[['Station Name','Region','Local Authority','Constituency','NUTS2 Spatial Unit',\n",
    "                                       'OS Grid Easting','OS Grid Northing','Station Facility Owner']]\n",
    "trainStationEssex = trainStationEssex.reset_index(drop=True)\n",
    "trainStationEssex.head()"
   ]
  },
  {
   "cell_type": "code",
   "execution_count": null,
   "metadata": {},
   "outputs": [],
   "source": [
    "# Convert dataframe to geopandas dataframe\n",
    "trainStationEssex = gpd.GeoDataFrame(trainStationEssex, \n",
    "                       geometry=gpd.points_from_xy(trainStationEssex['OS Grid Easting'],\n",
    "                                                   trainStationEssex['OS Grid Northing']),\n",
    "                       crs=\"epsg:27700\")\n",
    "trainStationEssex.head()"
   ]
  },
  {
   "cell_type": "markdown",
   "metadata": {},
   "source": [
    "## Merge ward boundary and population datasets for Essex"
   ]
  },
  {
   "cell_type": "code",
   "execution_count": 5,
   "metadata": {},
   "outputs": [
    {
     "data": {
      "text/html": [
       "<div>\n",
       "<style scoped>\n",
       "    .dataframe tbody tr th:only-of-type {\n",
       "        vertical-align: middle;\n",
       "    }\n",
       "\n",
       "    .dataframe tbody tr th {\n",
       "        vertical-align: top;\n",
       "    }\n",
       "\n",
       "    .dataframe thead th {\n",
       "        text-align: right;\n",
       "    }\n",
       "</style>\n",
       "<table border=\"1\" class=\"dataframe\">\n",
       "  <thead>\n",
       "    <tr style=\"text-align: right;\">\n",
       "      <th></th>\n",
       "      <th>FILE_NAME</th>\n",
       "      <th>AREA_CODE</th>\n",
       "      <th>DESCRIPTIO</th>\n",
       "      <th>CODE</th>\n",
       "      <th>HECTARES</th>\n",
       "      <th>geometry</th>\n",
       "      <th>AREA_km2</th>\n",
       "      <th>Ward Name 1</th>\n",
       "      <th>LA name (2019 boundaries)</th>\n",
       "      <th>All Ages</th>\n",
       "    </tr>\n",
       "  </thead>\n",
       "  <tbody>\n",
       "    <tr>\n",
       "      <th>0</th>\n",
       "      <td>ESSEX_COUNTY</td>\n",
       "      <td>DIW</td>\n",
       "      <td>District Ward</td>\n",
       "      <td>E05004070</td>\n",
       "      <td>3256.236</td>\n",
       "      <td>POLYGON ((561084.097 197904.500, 561080.403 19...</td>\n",
       "      <td>32.56236</td>\n",
       "      <td>Brizes and Doddinghurst</td>\n",
       "      <td>Brentwood</td>\n",
       "      <td>6272.0</td>\n",
       "    </tr>\n",
       "    <tr>\n",
       "      <th>1</th>\n",
       "      <td>ESSEX_COUNTY</td>\n",
       "      <td>DIW</td>\n",
       "      <td>District Ward</td>\n",
       "      <td>E05004076</td>\n",
       "      <td>2795.113</td>\n",
       "      <td>POLYGON ((561248.800 198814.899, 561242.699 19...</td>\n",
       "      <td>27.95113</td>\n",
       "      <td>Ingatestone, Fryerning and Mountnessing</td>\n",
       "      <td>Brentwood</td>\n",
       "      <td>6260.0</td>\n",
       "    </tr>\n",
       "    <tr>\n",
       "      <th>2</th>\n",
       "      <td>ESSEX_COUNTY</td>\n",
       "      <td>DIW</td>\n",
       "      <td>District Ward</td>\n",
       "      <td>E05004081</td>\n",
       "      <td>1827.160</td>\n",
       "      <td>POLYGON ((560409.997 187764.202, 560412.297 18...</td>\n",
       "      <td>18.27160</td>\n",
       "      <td>Warley</td>\n",
       "      <td>Brentwood</td>\n",
       "      <td>6399.0</td>\n",
       "    </tr>\n",
       "    <tr>\n",
       "      <th>3</th>\n",
       "      <td>ESSEX_COUNTY</td>\n",
       "      <td>DIW</td>\n",
       "      <td>District Ward</td>\n",
       "      <td>E05004071</td>\n",
       "      <td>1984.608</td>\n",
       "      <td>POLYGON ((560409.997 187764.202, 560407.804 18...</td>\n",
       "      <td>19.84608</td>\n",
       "      <td>Herongate, Ingrave and West Horndon</td>\n",
       "      <td>Brentwood</td>\n",
       "      <td>3696.0</td>\n",
       "    </tr>\n",
       "    <tr>\n",
       "      <th>4</th>\n",
       "      <td>ESSEX_COUNTY</td>\n",
       "      <td>DIW</td>\n",
       "      <td>District Ward</td>\n",
       "      <td>E05004078</td>\n",
       "      <td>683.749</td>\n",
       "      <td>POLYGON ((561084.097 197904.500, 561101.296 19...</td>\n",
       "      <td>6.83749</td>\n",
       "      <td>Shenfield</td>\n",
       "      <td>Brentwood</td>\n",
       "      <td>5400.0</td>\n",
       "    </tr>\n",
       "  </tbody>\n",
       "</table>\n",
       "</div>"
      ],
      "text/plain": [
       "      FILE_NAME AREA_CODE     DESCRIPTIO       CODE  HECTARES  \\\n",
       "0  ESSEX_COUNTY       DIW  District Ward  E05004070  3256.236   \n",
       "1  ESSEX_COUNTY       DIW  District Ward  E05004076  2795.113   \n",
       "2  ESSEX_COUNTY       DIW  District Ward  E05004081  1827.160   \n",
       "3  ESSEX_COUNTY       DIW  District Ward  E05004071  1984.608   \n",
       "4  ESSEX_COUNTY       DIW  District Ward  E05004078   683.749   \n",
       "\n",
       "                                            geometry  AREA_km2  \\\n",
       "0  POLYGON ((561084.097 197904.500, 561080.403 19...  32.56236   \n",
       "1  POLYGON ((561248.800 198814.899, 561242.699 19...  27.95113   \n",
       "2  POLYGON ((560409.997 187764.202, 560412.297 18...  18.27160   \n",
       "3  POLYGON ((560409.997 187764.202, 560407.804 18...  19.84608   \n",
       "4  POLYGON ((561084.097 197904.500, 561101.296 19...   6.83749   \n",
       "\n",
       "                               Ward Name 1 LA name (2019 boundaries)  All Ages  \n",
       "0                  Brizes and Doddinghurst                 Brentwood    6272.0  \n",
       "1  Ingatestone, Fryerning and Mountnessing                 Brentwood    6260.0  \n",
       "2                                   Warley                 Brentwood    6399.0  \n",
       "3      Herongate, Ingrave and West Horndon                 Brentwood    3696.0  \n",
       "4                                Shenfield                 Brentwood    5400.0  "
      ]
     },
     "execution_count": 5,
     "metadata": {},
     "output_type": "execute_result"
    }
   ],
   "source": [
    "boundariesPopulationEssex = boundariesDistrictBorough.merge(populationDistrictBoroughRaw,left_on='CODE',right_on=\"Ward Code 1\")\n",
    "boundariesPopulationEssex = boundariesPopulationEssex.drop(['NAME','Ward Code 1','LA Code (2019 boundaries)'],axis = 1)\n",
    "boundariesPopulationEssex.head()"
   ]
  },
  {
   "cell_type": "markdown",
   "metadata": {},
   "source": [
    "## Merge LSOA boundary with population for Essex"
   ]
  },
  {
   "cell_type": "code",
   "execution_count": 6,
   "metadata": {},
   "outputs": [
    {
     "data": {
      "text/html": [
       "<div>\n",
       "<style scoped>\n",
       "    .dataframe tbody tr th:only-of-type {\n",
       "        vertical-align: middle;\n",
       "    }\n",
       "\n",
       "    .dataframe tbody tr th {\n",
       "        vertical-align: top;\n",
       "    }\n",
       "\n",
       "    .dataframe thead th {\n",
       "        text-align: right;\n",
       "    }\n",
       "</style>\n",
       "<table border=\"1\" class=\"dataframe\">\n",
       "  <thead>\n",
       "    <tr style=\"text-align: right;\">\n",
       "      <th></th>\n",
       "      <th>LSOA11CD</th>\n",
       "      <th>LSOA11NM</th>\n",
       "      <th>geometry</th>\n",
       "      <th>LA Code (2019 boundaries)</th>\n",
       "      <th>LA name (2019 boundaries)</th>\n",
       "      <th>All Ages</th>\n",
       "    </tr>\n",
       "  </thead>\n",
       "  <tbody>\n",
       "    <tr>\n",
       "      <th>0</th>\n",
       "      <td>E01022006</td>\n",
       "      <td>Tendring 002C</td>\n",
       "      <td>POLYGON ((624232.454 231254.095, 624233.006 23...</td>\n",
       "      <td>E07000076</td>\n",
       "      <td>Tendring</td>\n",
       "      <td>1860</td>\n",
       "    </tr>\n",
       "    <tr>\n",
       "      <th>1</th>\n",
       "      <td>E01022087</td>\n",
       "      <td>Uttlesford 005F</td>\n",
       "      <td>POLYGON ((551345.426 224304.625, 551346.745 22...</td>\n",
       "      <td>E07000077</td>\n",
       "      <td>Uttlesford</td>\n",
       "      <td>2898</td>\n",
       "    </tr>\n",
       "    <tr>\n",
       "      <th>2</th>\n",
       "      <td>E01022007</td>\n",
       "      <td>Tendring 002D</td>\n",
       "      <td>POLYGON ((623718.870 231191.886, 623707.172 23...</td>\n",
       "      <td>E07000076</td>\n",
       "      <td>Tendring</td>\n",
       "      <td>1861</td>\n",
       "    </tr>\n",
       "    <tr>\n",
       "      <th>3</th>\n",
       "      <td>E01022086</td>\n",
       "      <td>Uttlesford 006A</td>\n",
       "      <td>POLYGON ((551449.852 224303.744, 551441.643 22...</td>\n",
       "      <td>E07000077</td>\n",
       "      <td>Uttlesford</td>\n",
       "      <td>1762</td>\n",
       "    </tr>\n",
       "    <tr>\n",
       "      <th>4</th>\n",
       "      <td>E01022004</td>\n",
       "      <td>Tendring 004D</td>\n",
       "      <td>MULTIPOLYGON (((623415.943 230599.882, 623418....</td>\n",
       "      <td>E07000076</td>\n",
       "      <td>Tendring</td>\n",
       "      <td>1752</td>\n",
       "    </tr>\n",
       "  </tbody>\n",
       "</table>\n",
       "</div>"
      ],
      "text/plain": [
       "    LSOA11CD         LSOA11NM  \\\n",
       "0  E01022006    Tendring 002C   \n",
       "1  E01022087  Uttlesford 005F   \n",
       "2  E01022007    Tendring 002D   \n",
       "3  E01022086  Uttlesford 006A   \n",
       "4  E01022004    Tendring 004D   \n",
       "\n",
       "                                            geometry  \\\n",
       "0  POLYGON ((624232.454 231254.095, 624233.006 23...   \n",
       "1  POLYGON ((551345.426 224304.625, 551346.745 22...   \n",
       "2  POLYGON ((623718.870 231191.886, 623707.172 23...   \n",
       "3  POLYGON ((551449.852 224303.744, 551441.643 22...   \n",
       "4  MULTIPOLYGON (((623415.943 230599.882, 623418....   \n",
       "\n",
       "  LA Code (2019 boundaries) LA name (2019 boundaries)  All Ages  \n",
       "0                 E07000076                  Tendring      1860  \n",
       "1                 E07000077                Uttlesford      2898  \n",
       "2                 E07000076                  Tendring      1861  \n",
       "3                 E07000077                Uttlesford      1762  \n",
       "4                 E07000076                  Tendring      1752  "
      ]
     },
     "execution_count": 6,
     "metadata": {},
     "output_type": "execute_result"
    }
   ],
   "source": [
    "# Need \"boundariesPopulationEssex.pkl\"\n",
    "boundariesPopulationEssex = pd.read_pickle(\"./data/02_Preprocessed/boundariesPopulationEssex.pkl\")\n",
    "boundariesPopulationEssex = boundariesPopulationEssex['LA name (2019 boundaries)'].drop_duplicates()\n",
    "# Filter population based on \"LA name (2019 boundaries)\" using merge\n",
    "populationLSOAEssex = populationLSOARaw.merge(boundariesPopulationEssex,on='LA name (2019 boundaries)')\n",
    "# Merge population filtered with LSOA boundaries\n",
    "boundariesPopulationLSOAEssex = boundariesLSOARaw.merge(populationLSOAEssex,left_on='LSOA11CD',right_on='LSOA Code')\n",
    "boundariesPopulationLSOAEssex = boundariesPopulationLSOAEssex.to_crs('EPSG:27700')\n",
    "boundariesPopulationLSOAEssex = boundariesPopulationLSOAEssex.drop(['LSOA Code','LSOA Name'], axis=1)\n",
    "boundariesPopulationLSOAEssex.head()"
   ]
  },
  {
   "cell_type": "markdown",
   "metadata": {},
   "source": [
    "## Save merged dataframe into pickle"
   ]
  },
  {
   "cell_type": "code",
   "execution_count": 7,
   "metadata": {},
   "outputs": [],
   "source": [
    "boundariesPopulationEssex.to_pickle(\"./data/02_Preprocessed/boundariesPopulationEssex.pkl\")"
   ]
  },
  {
   "cell_type": "code",
   "execution_count": null,
   "metadata": {},
   "outputs": [],
   "source": [
    "trainStationEssex.to_pickle(\"./data/02_Preprocessed/trainStationEssex.pkl\")"
   ]
  },
  {
   "cell_type": "code",
   "execution_count": 9,
   "metadata": {},
   "outputs": [],
   "source": [
    "boundariesPopulationLSOAEssex.to_pickle(\"./data/02_Preprocessed/boundariesPopulationLSOAEssex.pkl\")"
   ]
  },
  {
   "cell_type": "code",
   "execution_count": null,
   "metadata": {},
   "outputs": [],
   "source": []
  }
 ],
 "metadata": {
  "kernelspec": {
   "display_name": "Python 3",
   "language": "python",
   "name": "python3"
  },
  "language_info": {
   "codemirror_mode": {
    "name": "ipython",
    "version": 3
   },
   "file_extension": ".py",
   "mimetype": "text/x-python",
   "name": "python",
   "nbconvert_exporter": "python",
   "pygments_lexer": "ipython3",
   "version": "3.6.5"
  }
 },
 "nbformat": 4,
 "nbformat_minor": 2
}
